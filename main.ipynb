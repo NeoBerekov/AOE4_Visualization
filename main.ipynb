{
 "cells": [
  {
   "cell_type": "code",
   "execution_count": 1,
   "id": "initial_id",
   "metadata": {
    "collapsed": true,
    "ExecuteTime": {
     "end_time": "2023-12-24T13:45:06.390366800Z",
     "start_time": "2023-12-24T13:45:05.371024900Z"
    }
   },
   "outputs": [],
   "source": [
    "import data_process as dp\n",
    "import importlib\n",
    "import altair as alt\n",
    "import IPython\n",
    "import pandas as pd\n",
    "import charts\n",
    "\n",
    "#always fail to sync with the latest version, so I have to reload it manually\n"
   ]
  },
  {
   "cell_type": "code",
   "execution_count": 2,
   "outputs": [],
   "source": [
    "solodata = dp.SoloData(refresh=False)\n",
    "charts_list = {}\n",
    "for df in solodata.ranks_pd:\n",
    "    charts_list[df] = charts.draw_chart(solodata.ranks_pd[df],df)"
   ],
   "metadata": {
    "collapsed": false,
    "ExecuteTime": {
     "end_time": "2023-12-24T13:45:08.360432800Z",
     "start_time": "2023-12-24T13:45:07.893420100Z"
    }
   },
   "id": "95e6c827690a5a49"
  },
  {
   "cell_type": "code",
   "execution_count": 3,
   "outputs": [],
   "source": [
    "#导出为html文件\n",
    "for df in charts_list:\n",
    "    charts_list[df].save('charts_'+df+'.json')\n"
   ],
   "metadata": {
    "collapsed": false,
    "ExecuteTime": {
     "end_time": "2023-12-24T13:45:10.951874300Z",
     "start_time": "2023-12-24T13:45:10.755819600Z"
    }
   },
   "id": "35f0e51c548c688c"
  }
 ],
 "metadata": {
  "kernelspec": {
   "display_name": "Python 3",
   "language": "python",
   "name": "python3"
  },
  "language_info": {
   "codemirror_mode": {
    "name": "ipython",
    "version": 2
   },
   "file_extension": ".py",
   "mimetype": "text/x-python",
   "name": "python",
   "nbconvert_exporter": "python",
   "pygments_lexer": "ipython2",
   "version": "2.7.6"
  }
 },
 "nbformat": 4,
 "nbformat_minor": 5
}
